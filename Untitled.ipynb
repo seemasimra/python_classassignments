{
 "cells": [
  {
   "cell_type": "code",
   "execution_count": 1,
   "id": "0052d10b",
   "metadata": {},
   "outputs": [
    {
     "name": "stdout",
     "output_type": "stream",
     "text": [
      "type ur marks35\n",
      "ur grade is 'd'\n"
     ]
    }
   ],
   "source": [
    "#1. Write a program to accept percentage from the user and display the grade according to the following criteria:\n",
    "\n",
    "      #   Marks                                    Grade\n",
    "      #   > 90                                        A\n",
    "      #   > 80 and <= 90                              B\n",
    "      #   >= 60 and <= 80                             C\n",
    "       #  below 60                                    D\n",
    "    \n",
    "x=int(input(\"type ur marks\"))    \n",
    "if x>90:\n",
    "    print(\"ur grade is'a' \" )\n",
    "elif x>80 and x<=90:\n",
    "    print(\"ur grade is 'b'\")\n",
    "elif x>=60 and x<=80:\n",
    "    print(\"ur grade is 'c'\")\n",
    "else:\n",
    "    print(\"ur grade is 'd'\")"
   ]
  },
  {
   "cell_type": "code",
   "execution_count": 2,
   "id": "ffe60588",
   "metadata": {},
   "outputs": [
    {
     "name": "stdout",
     "output_type": "stream",
     "text": [
      "entre a value5000\n",
      "ur tax is 250.0\n"
     ]
    }
   ],
   "source": [
    "#2.Write a program to accept the cost price of a bike and display the road tax to be paid according to the following criteria :\n",
    "    \n",
    "        #Cost price (in Rs)                                       Tax\n",
    "        #> 100000                                                  15 %\n",
    "        #> 50000 and <= 100000                                     10%\n",
    "        #<= 50000                                                  5%\n",
    "        \n",
    "x=int(input(\"entre a value\"))\n",
    "if x>100000:\n",
    "    y1=x*15/100\n",
    "    print(\"ur tax is\",y1)\n",
    "elif x>50000 and x<100000:\n",
    "     y2=x*10/100\n",
    "     print(\"ur tax is\",y2)\n",
    "else:\n",
    "     y3=x*5/100\n",
    "     print(\"ur tax is\",y3)\n",
    "     "
   ]
  },
  {
   "cell_type": "code",
   "execution_count": 3,
   "id": "76a3625e",
   "metadata": {},
   "outputs": [
    {
     "name": "stdout",
     "output_type": "stream",
     "text": [
      "type person age12\n",
      "not eligible for voting\n"
     ]
    }
   ],
   "source": [
    " #4.Write a program to check whether a person is eligible for voting or not. (accept age from user)\n",
    "    \n",
    "x=int(input(\"type person age\"))\n",
    "if x>18:\n",
    "    print(\"Eligible for voting\")\n",
    "else:\n",
    "    print(\"not eligible for voting\")\n",
    "    \n"
   ]
  },
  {
   "cell_type": "code",
   "execution_count": 4,
   "id": "0b43b940",
   "metadata": {},
   "outputs": [
    {
     "name": "stdout",
     "output_type": "stream",
     "text": [
      "value 8\n",
      "the value is even\n"
     ]
    }
   ],
   "source": [
    "#5.check whether the number entre by a user is even or odd\n",
    "x=int(input(\"value \"))\n",
    "\n",
    "if x%2==0:\n",
    "    print(\"the value is even\")\n",
    "    \n",
    "else:\n",
    "    print(\"the value is odd\")\n",
    "    "
   ]
  },
  {
   "cell_type": "code",
   "execution_count": 5,
   "id": "52936e02",
   "metadata": {},
   "outputs": [
    {
     "name": "stdout",
     "output_type": "stream",
     "text": [
      "entre a value23\n",
      "not divisbile by 7\n"
     ]
    }
   ],
   "source": [
    "#6.Write a program to check whether a number is divisible by 7 or not.\n",
    "x=int(input(\"entre a value\"))\n",
    "if x%7==0:\n",
    "    print(\"divisible by 7\")\n",
    "else:\n",
    "    print(\"not divisbile by 7\")\n"
   ]
  },
  {
   "cell_type": "code",
   "execution_count": 6,
   "id": "5fe37b94",
   "metadata": {},
   "outputs": [
    {
     "name": "stdout",
     "output_type": "stream",
     "text": [
      "value3\n",
      "bye\n"
     ]
    }
   ],
   "source": [
    "#7.write a program to display \"hello\" if a number entered by user is a multiple of 5,otherwise print \"bye\".\n",
    "\n",
    "x=int(input(\"value\"))\n",
    "\n",
    "if x%5==0:\n",
    "   print(\"hello\")\n",
    "else:\n",
    "   print(\"bye\")"
   ]
  },
  {
   "cell_type": "code",
   "execution_count": 7,
   "id": "5cd7955b",
   "metadata": {},
   "outputs": [
    {
     "name": "stdout",
     "output_type": "stream",
     "text": [
      "total bill amt is rs: 270\n",
      "the bill is 1200\n"
     ]
    }
   ],
   "source": [
    "# 8. Write a program to calculate the electricity bill (accept number of unit from user) according to the following criteria :\n",
    " #            Unit                                                     Price  \n",
    "#First 100 units                                               no charge\n",
    "#Next 100 units                                              Rs 5 per unit\n",
    "#After 200 units                                             Rs 10 per unit\n",
    "#(For example if input unit is 350 than total bill amount is Rs2000)\n",
    "\n",
    "unit=int(input('total bill amt is rs: '))\n",
    "if unit<100:\n",
    "    print(\"no charges\")\n",
    "elif unit>100 and unit<=200:\n",
    "     print(\"the bill is\",100*5)\n",
    "else:\n",
    "    a=100*5\n",
    "    b=(unit-200)*10\n",
    "    print(\"the bill is\",a+b)\n"
   ]
  },
  {
   "cell_type": "code",
   "execution_count": 8,
   "id": "d20d2291",
   "metadata": {},
   "outputs": [
    {
     "name": "stdout",
     "output_type": "stream",
     "text": [
      "entre a digit20\n",
      "0\n"
     ]
    }
   ],
   "source": [
    "#9.Write a program to display the last digit of a number.\n",
    "#(hint : any number % 10 will return the last digit)\n",
    "\n",
    "x=int(input(\"entre a digit\"))\n",
    "y=x%10\n",
    "print(y)\n"
   ]
  },
  {
   "cell_type": "code",
   "execution_count": 9,
   "id": "716508a9",
   "metadata": {},
   "outputs": [
    {
     "name": "stdout",
     "output_type": "stream",
     "text": [
      "value :21\n",
      "last digit of the number is divisible by 3\n"
     ]
    }
   ],
   "source": [
    "#10.write a programme to check whether the last digit of a number(entered by user)is divisible by 3 or not.\n",
    "\n",
    "x=int(input(\"value :\"))\n",
    "\n",
    "if x%3==0:\n",
    "   print(\"last digit of the number is divisible by 3\")\n",
    "    \n",
    "else:\n",
    "   print(\"last digit of the number is not divisible by 3\")\n"
   ]
  },
  {
   "cell_type": "code",
   "execution_count": null,
   "id": "79dc6527",
   "metadata": {},
   "outputs": [],
   "source": []
  }
 ],
 "metadata": {
  "kernelspec": {
   "display_name": "Python 3 (ipykernel)",
   "language": "python",
   "name": "python3"
  },
  "language_info": {
   "codemirror_mode": {
    "name": "ipython",
    "version": 3
   },
   "file_extension": ".py",
   "mimetype": "text/x-python",
   "name": "python",
   "nbconvert_exporter": "python",
   "pygments_lexer": "ipython3",
   "version": "3.9.12"
  }
 },
 "nbformat": 4,
 "nbformat_minor": 5
}
